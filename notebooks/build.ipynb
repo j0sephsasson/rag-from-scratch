{
 "cells": [
  {
   "attachments": {},
   "cell_type": "markdown",
   "metadata": {},
   "source": [
    "## Imports"
   ]
  },
  {
   "cell_type": "code",
   "execution_count": 1,
   "metadata": {},
   "outputs": [],
   "source": [
    "import numpy as np\n",
    "import requests\n",
    "import os\n",
    "import json, ast\n",
    "import re\n",
    "from transformers import AutoTokenizer, AutoModel\n",
    "import uuid\n",
    "import torch"
   ]
  },
  {
   "attachments": {},
   "cell_type": "markdown",
   "metadata": {},
   "source": [
    "## Build"
   ]
  },
  {
   "cell_type": "code",
   "execution_count": 2,
   "metadata": {},
   "outputs": [],
   "source": [
    "def document_chunker(directory_path,\n",
    "                     model_name,\n",
    "                     paragraph_separator='\\n\\n',\n",
    "                     chunk_size=1024,\n",
    "                     separator=' ',\n",
    "                     secondary_chunking_regex=r'\\S+?[\\.,;!?]',\n",
    "                     chunk_overlap=0):\n",
    "    \n",
    "    tokenizer = AutoTokenizer.from_pretrained(model_name)  # Load tokenizer for the specified model\n",
    "    documents = {}  # Initialize dictionary to store results\n",
    "\n",
    "    # Read each file in the specified directory\n",
    "    for filename in os.listdir(directory_path):\n",
    "        file_path = os.path.join(directory_path, filename)\n",
    "        base = os.path.basename(file_path)\n",
    "        sku = os.path.splitext(base)[0]\n",
    "        if os.path.isfile(file_path):\n",
    "            with open(file_path, 'r', encoding='utf-8') as file:\n",
    "                text = file.read()\n",
    "\n",
    "            # Generate a unique identifier for the document\n",
    "            doc_id = str(uuid.uuid4())\n",
    "\n",
    "            # Process each file using the existing chunking logic\n",
    "            paragraphs = re.split(paragraph_separator, text)\n",
    "            all_chunks = {}\n",
    "            for paragraph in paragraphs:\n",
    "                words = paragraph.split(separator)\n",
    "                current_chunk = \"\"\n",
    "                chunks = []\n",
    "\n",
    "                for word in words:\n",
    "                    new_chunk = current_chunk + (separator if current_chunk else '') + word\n",
    "                    if len(tokenizer.tokenize(new_chunk)) <= chunk_size:\n",
    "                        current_chunk = new_chunk\n",
    "                    else:\n",
    "                        if current_chunk:\n",
    "                            chunks.append(current_chunk)\n",
    "                        current_chunk = word\n",
    "\n",
    "                if current_chunk:\n",
    "                    chunks.append(current_chunk)\n",
    "\n",
    "                refined_chunks = []\n",
    "                for chunk in chunks:\n",
    "                    if len(tokenizer.tokenize(chunk)) > chunk_size:\n",
    "                        sub_chunks = re.split(secondary_chunking_regex, chunk)\n",
    "                        sub_chunk_accum = \"\"\n",
    "                        for sub_chunk in sub_chunks:\n",
    "                            if sub_chunk_accum and len(tokenizer.tokenize(sub_chunk_accum + sub_chunk + ' ')) > chunk_size:\n",
    "                                refined_chunks.append(sub_chunk_accum.strip())\n",
    "                                sub_chunk_accum = sub_chunk\n",
    "                            else:\n",
    "                                sub_chunk_accum += (sub_chunk + ' ')\n",
    "                        if sub_chunk_accum:\n",
    "                            refined_chunks.append(sub_chunk_accum.strip())\n",
    "                    else:\n",
    "                        refined_chunks.append(chunk)\n",
    "\n",
    "                final_chunks = []\n",
    "                if chunk_overlap > 0 and len(refined_chunks) > 1:\n",
    "                    for i in range(len(refined_chunks) - 1):\n",
    "                        final_chunks.append(refined_chunks[i])\n",
    "                        overlap_start = max(0, len(refined_chunks[i]) - chunk_overlap)\n",
    "                        overlap_end = min(chunk_overlap, len(refined_chunks[i+1]))\n",
    "                        overlap_chunk = refined_chunks[i][overlap_start:] + ' ' + refined_chunks[i+1][:overlap_end]\n",
    "                        final_chunks.append(overlap_chunk)\n",
    "                    final_chunks.append(refined_chunks[-1])\n",
    "                else:\n",
    "                    final_chunks = refined_chunks\n",
    "\n",
    "                # Assign a UUID for each chunk and structure it with text and metadata\n",
    "                for chunk in final_chunks:\n",
    "                    chunk_id = str(uuid.uuid4())\n",
    "                    all_chunks[chunk_id] = {\"text\": chunk, \"metadata\": {\"file_name\":sku}}  # Initialize metadata as empty dict\n",
    "\n",
    "            # Map the document UUID to its chunk dictionary\n",
    "            documents[doc_id] = all_chunks\n",
    "\n",
    "    return documents\n",
    "\n",
    "docs = document_chunker(directory_path='/Users/joesasson/Desktop/articles/rag-from-scratch/text_data',\n",
    "                        model_name='BAAI/bge-small-en-v1.5',\n",
    "                        chunk_size=256)"
   ]
  },
  {
   "cell_type": "code",
   "execution_count": null,
   "metadata": {},
   "outputs": [],
   "source": [
    "model_name = \"BAAI/bge-small-en-v1.5\"\n",
    "\n",
    "tokenizer = AutoTokenizer.from_pretrained(model_name)\n",
    "model = AutoModel.from_pretrained(model_name)\n",
    "\n",
    "tokenizer.save_pretrained(\"model/tokenizer\")\n",
    "model.save_pretrained(\"model/embedding\")"
   ]
  },
  {
   "cell_type": "code",
   "execution_count": 4,
   "metadata": {},
   "outputs": [],
   "source": [
    "def compute_embeddings(text):\n",
    "    tokenizer = AutoTokenizer.from_pretrained(\"/model/tokenizer\") \n",
    "    model = AutoModel.from_pretrained(\"/model/embedding\")\n",
    "\n",
    "    inputs = tokenizer(text, return_tensors=\"pt\", padding=True, truncation=True) \n",
    "    \n",
    "    # Generate the embeddings \n",
    "    with torch.no_grad():    \n",
    "        embeddings = model(**inputs).last_hidden_state.mean(dim=1).squeeze()\n",
    "\n",
    "    return embeddings.tolist()\n",
    "\n",
    "def create_vector_store(doc_store):\n",
    "    vector_store = {}\n",
    "    for doc_id, chunks in doc_store.items():\n",
    "        doc_vectors = {}\n",
    "        for chunk_id, chunk_dict in chunks.items():\n",
    "            # Generate an embedding for each chunk of text\n",
    "            doc_vectors[chunk_id] = compute_embeddings(chunk_dict.get(\"text\"))\n",
    "        # Store the document's chunk embeddings mapped by their chunk UUIDs\n",
    "        vector_store[doc_id] = doc_vectors\n",
    "    return vector_store\n",
    "\n",
    "vec_store = create_vector_store(docs)"
   ]
  },
  {
   "cell_type": "code",
   "execution_count": 5,
   "metadata": {},
   "outputs": [],
   "source": [
    "def compute_matches(vector_store, query_str, top_k, embedding):\n",
    "    \"\"\"\n",
    "    This function takes in a vector store dictionary, a query string, and an int 'top_k'.\n",
    "    It computes embeddings for the query string and then calculates the cosine similarity against every chunk embedding in the dictionary.\n",
    "    The top_k matches are returned based on the highest similarity scores.\n",
    "    \"\"\"\n",
    "    # Get the embedding for the query string\n",
    "    query_str_embedding = np.array(embedding.get_text_embedding(query_str))\n",
    "    scores = {}\n",
    "\n",
    "    # Calculate the cosine similarity between the query embedding and each chunk's embedding\n",
    "    for doc_id, chunks in vector_store.items():\n",
    "        for chunk_id, chunk_embedding in chunks.items():\n",
    "            chunk_embedding_array = np.array(chunk_embedding)\n",
    "            # Normalize embeddings to unit vectors for cosine similarity calculation\n",
    "            norm_query = np.linalg.norm(query_str_embedding)\n",
    "            norm_chunk = np.linalg.norm(chunk_embedding_array)\n",
    "            if norm_query == 0 or norm_chunk == 0:\n",
    "                # Avoid division by zero\n",
    "                score = 0\n",
    "            else:\n",
    "                score = np.dot(chunk_embedding_array, query_str_embedding) / (norm_query * norm_chunk)\n",
    "\n",
    "            # Store the score along with a reference to both the document and the chunk\n",
    "            scores[(doc_id, chunk_id)] = score\n",
    "\n",
    "    # Sort scores and return the top_k results\n",
    "    sorted_scores = sorted(scores.items(), key=lambda item: item[1], reverse=True)[:top_k]\n",
    "    top_results = [(doc_id, chunk_id, score) for ((doc_id, chunk_id), score) in sorted_scores]\n",
    "\n",
    "    return top_results\n",
    "\n",
    "matches = compute_matches(vector_store=vec_store,\n",
    "                query_str=\"Wall-mounted electric fireplace with realistic LED flames\",\n",
    "                top_k=3)"
   ]
  },
  {
   "cell_type": "code",
   "execution_count": null,
   "metadata": {},
   "outputs": [],
   "source": [
    "def save_json(path, data):\n",
    "    with open(path, 'w') as f:\n",
    "        json.dump(data, f, indent=4)\n",
    "\n",
    "save_json('doc_store.json', docs)\n",
    "save_json('vector_store.json', vec_store)\n"
   ]
  },
  {
   "attachments": {},
   "cell_type": "markdown",
   "metadata": {},
   "source": [
    "## Test API"
   ]
  },
  {
   "cell_type": "code",
   "execution_count": 21,
   "metadata": {},
   "outputs": [
    {
     "name": "stdout",
     "output_type": "stream",
     "text": [
      "{'response': {'choices': [{'finish_reason': 'stop', 'index': 0, 'logprobs': None, 'text': ' Based on the retrieved context, the wall-mounted electric fireplace mentioned includes features such as realistic LED flames. Therefore, the answer to the user\\'s query \"Wall-mounted electric fireplace with realistic LED flames\" is a match to the retrieved context. The specific model mentioned in the context is manufactured by Hearth & Home and comes with additional heat settings.'}], 'created': 1715307125, 'id': 'cmpl-dd6c41ee-7c89-440f-9b04-0c9da9662f26', 'model': '/app/mistral-7b-instruct-v0.2.Q3_K_L.gguf', 'object': 'text_completion', 'usage': {'completion_tokens': 78, 'prompt_tokens': 177, 'total_tokens': 255}}}\n"
     ]
    }
   ],
   "source": [
    "import requests, json\n",
    "\n",
    "def call_api(query):\n",
    "    URL = \"http://127.0.0.1:5001/rag_endpoint\"\n",
    "    \n",
    "    # Headers for the request\n",
    "    headers = {\n",
    "        \"Content-Type\": \"application/json\"\n",
    "    }\n",
    "\n",
    "    # Body for the request.\n",
    "    body = {\"query\": query}\n",
    "\n",
    "    # Making the POST request\n",
    "    response = requests.post(URL, headers=headers, data=json.dumps(body))\n",
    "    \n",
    "    # Check if the request was successful\n",
    "    if response.status_code == 200:\n",
    "        return response.json()\n",
    "    else:\n",
    "        return f\"Error: {response.status_code}, Message: {response.text}\"\n",
    "\n",
    "# Test\n",
    "query = \"Wall-mounted electric fireplace with realistic LED flames\"\n",
    "\n",
    "result = call_api(query)\n",
    "print(result)"
   ]
  }
 ],
 "metadata": {
  "kernelspec": {
   "display_name": "ced",
   "language": "python",
   "name": "python3"
  },
  "language_info": {
   "codemirror_mode": {
    "name": "ipython",
    "version": 3
   },
   "file_extension": ".py",
   "mimetype": "text/x-python",
   "name": "python",
   "nbconvert_exporter": "python",
   "pygments_lexer": "ipython3",
   "version": "3.11.0"
  },
  "orig_nbformat": 4,
  "vscode": {
   "interpreter": {
    "hash": "a21cba954428f599e2a216dbe69fabe2d4a0eca117628271d736984d99550425"
   }
  }
 },
 "nbformat": 4,
 "nbformat_minor": 2
}
